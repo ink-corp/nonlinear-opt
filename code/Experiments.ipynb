{
 "cells": [
  {
   "cell_type": "code",
   "execution_count": 8,
   "metadata": {
    "ExecuteTime": {
     "end_time": "2020-05-29T17:08:12.899902Z",
     "start_time": "2020-05-29T17:08:12.896183Z"
    }
   },
   "outputs": [],
   "source": [
    "import os\n",
    "from os.path import join\n",
    "from time import time\n",
    "from tqdm.notebook import tqdm\n",
    "\n",
    "import numpy as np\n",
    "from numpy import flatnonzero as find\n",
    "from scipy.sparse import hstack, vstack\n",
    "from scipy.sparse.linalg import spsolve\n",
    "\n",
    "from data import case_as_data, PowerflowData, PowerflowOptimData\n"
   ]
  },
  {
   "cell_type": "code",
   "execution_count": 9,
   "metadata": {
    "ExecuteTime": {
     "end_time": "2020-05-29T17:08:13.440039Z",
     "start_time": "2020-05-29T17:08:13.405036Z"
    },
    "scrolled": true
   },
   "outputs": [],
   "source": [
    "data = case_as_data('case300')\n",
    "pf = PowerflowData(data)"
   ]
  },
  {
   "cell_type": "markdown",
   "metadata": {},
   "source": [
    "$j$ denotes imaginary unit in electrical engineering  \n",
    "$Y_{bus} = Y = G + jB$  \n",
    "$S_{bus} = S = P + jQ$  \n",
    "$V_i = |V_i|e^{j\\delta_i}$  \n",
    "$\\theta_{ik} = \\delta_i - \\delta_k$\n",
    "\n",
    "$S_k = V_k \\cdot (YV)_k^*$  \n",
    "or   \n",
    "$P_{i}=\\sum _{{k=1}}^{N}|V_{i}||V_{k}|(G_{{ik}}\\cos \\theta _{{ik}}+B_{{ik}}\\sin \\theta _{{ik}})$    \n",
    "$Q_{i}=\\sum _{{k=1}}^{N}|V_{i}||V_{k}|(G_{{ik}}\\sin \\theta _{{ik}}-B_{{ik}}\\cos \\theta _{{ik}})$  \n",
    "Further reading: https://wiki.openelectrical.org/index.php?title=Power_Flow  \n",
    "### Newton algorthm\n",
    "$$\n",
    "\\Delta P_{i}=-P_{i}+\\sum _{{k=1}}^{N}|V_{i}||V_{k}|(G_{{ik}}\\cos \\theta _{{ik}}+B_{{ik}}\\sin \\theta _{{ik}})\n",
    "\\\\\n",
    "\\Delta Q_{{i}}=-Q_{{i}}+\\sum _{{k=1}}^{N}|V_{i}||V_{k}|(G_{{ik}}\\sin \\theta _{{ik}}-B_{{ik}}\\cos \\theta _{{ik}})\n",
    "\\\\\n",
    "J={\\begin{bmatrix}{\\dfrac  {\\partial \\Delta P}{\\partial \\theta }}&{\\dfrac  {\\partial \\Delta P}{\\partial |V|}}\\\\{\\dfrac  {\\partial \\Delta Q}{\\partial \\theta }}&{\\dfrac  {\\partial \\Delta Q}{\\partial |V|}}\\end{bmatrix}}\n",
    "\\\\\n",
    "{\\begin{bmatrix}\\Delta \\theta \\\\\\Delta |V|\\end{bmatrix}}=-J^{{-1}}{\\begin{bmatrix}\\Delta P\\\\\\Delta Q\\end{bmatrix}}\n",
    "\\\\\n",
    "\\theta ^{{m+1}}=\\theta ^{m}+\\Delta \\theta \\,\n",
    "\\\\\n",
    "|V|^{{m+1}}=|V|^{m}+\\Delta |V|\\,$$   \n",
    "**What is not clarified yet**: types of buses: $pv$ and $pq$\n",
    "\n",
    "In the power-flow problem, it is assumed that the real power $P_D$ and reactive power $Q_D$ at each Load Bus are known. For this reason, Load Buses are also known as **PQ Buses**. For Generator Buses, it is assumed that the real power generated $P_G$ and the voltage magnitude $|V|$ is known. For this reason, Generator Buses are also known as **PV Buses**"
   ]
  },
  {
   "cell_type": "code",
   "execution_count": 10,
   "metadata": {
    "ExecuteTime": {
     "end_time": "2020-05-29T17:08:15.227460Z",
     "start_time": "2020-05-29T17:08:15.217104Z"
    }
   },
   "outputs": [],
   "source": [
    "class NewtonSolver():\n",
    "    def __init__(self):\n",
    "        pass\n",
    "    def solve(self, regression, iterations=10, x0=None,\n",
    "                 tol=1e-10, verbose=True):\n",
    "        if x0 is None:\n",
    "            # special case for PowerflowDataset\n",
    "            if hasattr(regression, 'get_V0'): \n",
    "                x = regression.get_V0()\n",
    "            else:\n",
    "                x = np.random.rand(regression.A.shape[1])\n",
    "        else:\n",
    "            x = x0\n",
    "        \n",
    "        # initialize starting time\n",
    "        start = time()\n",
    "        # save the history of iterations for plotting and analysis\n",
    "        x_history = [x]\n",
    "        values_history = [np.linalg.norm(regression.forward(x), 2)]\n",
    "        grads_history = [regression.grad(x)]\n",
    "        times_history = [0]\n",
    "        \n",
    "        for i in tqdm(range(iterations)):\n",
    "            if verbose:\n",
    "                print(f'{np.linalg.norm(regression.forward(x), 2)}')\n",
    "            J = regression.grad(x)\n",
    "            F = regression.forward(x)\n",
    "            dx = -spsolve(J, F) # - np.linalg.inv(J.toarray()) @ F\n",
    "            x = regression.updatedV(x, dx)\n",
    "            \n",
    "            # update histories\n",
    "            x_history.append(x)\n",
    "            values_history.append(np.linalg.norm(regression.forward(x), 2))\n",
    "            times_history.append(time() - start)\n",
    "            \n",
    "            if np.abs(values_history[-1] - values_history[-2]) <= tol:\n",
    "                print(f'Newton-Raphson converged on iteration {i}')\n",
    "                break\n",
    "        return x_history, values_history, times_history\n",
    "        "
   ]
  },
  {
   "cell_type": "code",
   "execution_count": 14,
   "metadata": {
    "ExecuteTime": {
     "end_time": "2020-05-29T17:08:28.216941Z",
     "start_time": "2020-05-29T17:08:28.114857Z"
    }
   },
   "outputs": [
    {
     "data": {
      "application/vnd.jupyter.widget-view+json": {
       "model_id": "aa6a7ac666f4439c9c159126dd29b0e1",
       "version_major": 2,
       "version_minor": 0
      },
      "text/plain": [
       "HBox(children=(FloatProgress(value=0.0, max=10.0), HTML(value='')))"
      ]
     },
     "metadata": {},
     "output_type": "display_data"
    },
    {
     "name": "stdout",
     "output_type": "stream",
     "text": [
      "Newton-Raphson converged on iteration 8\n",
      "\n"
     ]
    }
   ],
   "source": [
    "nr = NewtonSolver()\n",
    "\n",
    "res = list(nr.solve(pf, iterations=10, tol=1e-13, verbose=False))"
   ]
  },
  {
   "cell_type": "code",
   "execution_count": 15,
   "metadata": {
    "ExecuteTime": {
     "end_time": "2020-05-29T17:08:29.360873Z",
     "start_time": "2020-05-29T17:08:28.618143Z"
    }
   },
   "outputs": [
    {
     "data": {
      "image/png": "[encoded data removed]",
      "text/plain": [
       "<Figure size 432x288 with 1 Axes>"
      ]
     },
     "metadata": {
      "needs_background": "light"
     },
     "output_type": "display_data"
    }
   ],
   "source": [
    "import matplotlib.pyplot as plt\n",
    "plt.plot(res[1][:])\n",
    "plt.yscale('log')"
   ]
  },
  {
   "cell_type": "markdown",
   "metadata": {},
   "source": [
    "**PLS, CHECK**\n",
    "\n",
    "In order to use optimization methods we need to transform our objective as following\n",
    "\n",
    "$g = {\\begin{bmatrix}\\Delta P\\\\\\Delta Q\\end{bmatrix}}$\n",
    "\n",
    "$f(x) = \\sum \\limits_{i=1}^{n}g_i^2(x)$\n",
    "\n",
    "$\\nabla_{x_i}f(x) = \\sum \\limits_{j=1}^{n} \\frac{f(x)}{g_j(x)} \\frac{g_j(x)}{x_i} = \\sum \\limits_{j=1}^{n} 2 g_j(x) J_{ji}(x) \\rightarrow$\n",
    "\n",
    "$\\nabla f(x) = 2 J(x) \\cdot g(x)$"
   ]
  },
  {
   "cell_type": "code",
   "execution_count": 22,
   "metadata": {
    "ExecuteTime": {
     "end_time": "2020-05-29T17:09:50.630774Z",
     "start_time": "2020-05-29T17:09:50.622151Z"
    }
   },
   "outputs": [],
   "source": [
    "# from pdb import set_trace; set_trace()\n",
    "pf_optim = PowerflowOptimData(data)"
   ]
  },
  {
   "cell_type": "code",
   "execution_count": 23,
   "metadata": {
    "ExecuteTime": {
     "end_time": "2020-05-29T17:09:51.023659Z",
     "start_time": "2020-05-29T17:09:51.009559Z"
    }
   },
   "outputs": [],
   "source": [
    "from scipy.optimize import minimize_scalar\n",
    "\n",
    "class ConjugateGradient():\n",
    "    def __init__(self):\n",
    "        pass\n",
    "    \n",
    "    def optimize(self, regression, iterations=10, method='fletcher-reeves', x0=None, default_step=0.01,\n",
    "                line_search_iter=50, line_search_tolerance=10, tol=1e-10):\n",
    "        # random guess\n",
    "        if x0 is None:\n",
    "            x = np.random.rand(regression.A.shape[1])\n",
    "        else: \n",
    "            x = x0\n",
    "        \n",
    "        # conjugate direction\n",
    "        d = -regression.grad(x)\n",
    "\n",
    "        # initialize starting time\n",
    "        start = time()\n",
    "        # save the history of iterations for plotting and analysis\n",
    "        x_history = [x]\n",
    "        values_history = [regression.normed_forward(x)]#[regression.forward(x)]\n",
    "        grads_history = [regression.grad(x)]\n",
    "        times_history = [0]\n",
    "        \n",
    "        for i in tqdm(range(iterations)):\n",
    "            # line search alpha\n",
    "            def obj(lr):\n",
    "                x_new = regression.updatedV(x, lr * d)\n",
    "                return regression.forward(x_new)\n",
    "            alpha = minimize_scalar(obj, bounds=(0, default_step), method='Golden',\n",
    "                                    options={'maxiter':line_search_iter,\n",
    "                                             'xtol': default_step / line_search_tolerance})\n",
    "            if not alpha['success']:\n",
    "                print(f'Line search did not converge on iteration {i}, using default step')\n",
    "                alpha = default_step / (i + 1)\n",
    "            else:\n",
    "                alpha = alpha['x']\n",
    "            \n",
    "            # update x_k + 1\n",
    "            if hasattr(regression, 'updatedV'): # special case for powerflowdata\n",
    "                x = regression.updatedV(x, alpha * d)\n",
    "            else:\n",
    "                x = x + alpha * d\n",
    "            x_history.append(x)\n",
    "            values_history.append(regression.normed_forward(x))\n",
    "            \n",
    "            # compute g_k + 1\n",
    "            g = regression.grad(x)\n",
    "            grads_history.append(g)\n",
    "            \n",
    "            # update d_k + 1\n",
    "            if method == 'fletcher-reeves':\n",
    "                beta = (g.T @ g) / (grads_history[-2].T @ grads_history[-2])\n",
    "            elif method == 'polak-ribiere':\n",
    "                beta = ((g - grads_history[-2]).T @ g) / (grads_history[-2].T @ grads_history[-2])\n",
    "            else:\n",
    "                raise Exception(f'Unknown method: {method}')\n",
    "                \n",
    "            d = -g + beta * d\n",
    "            \n",
    "            # update times history\n",
    "            times_history.append(time() - start)\n",
    "            \n",
    "            if np.abs(values_history[-1] - values_history[-2]) <= tol:\n",
    "                print(f'Newton-Raphson converged on iteration {i}')\n",
    "                break\n",
    "        return x_history, values_history, times_history"
   ]
  },
  {
   "cell_type": "code",
   "execution_count": 24,
   "metadata": {
    "ExecuteTime": {
     "end_time": "2020-05-29T17:10:38.758177Z",
     "start_time": "2020-05-29T17:09:51.345555Z"
    }
   },
   "outputs": [
    {
     "data": {
      "application/vnd.jupyter.widget-view+json": {
       "model_id": "78601e09127a4398bf681fed7dd50af5",
       "version_major": 2,
       "version_minor": 0
      },
      "text/plain": [
       "HBox(children=(FloatProgress(value=0.0, max=3000.0), HTML(value='')))"
      ]
     },
     "metadata": {},
     "output_type": "display_data"
    },
    {
     "name": "stdout",
     "output_type": "stream",
     "text": [
      "\n"
     ]
    }
   ],
   "source": [
    "cg = ConjugateGradient()\n",
    "res = list(cg.optimize(pf_optim, iterations=3000, method='polak-ribiere',\n",
    "                       line_search_iter=200, default_step=1e-8,\n",
    "                       x0=pf_optim.get_V0()))"
   ]
  },
  {
   "cell_type": "code",
   "execution_count": 25,
   "metadata": {
    "ExecuteTime": {
     "end_time": "2020-05-29T17:10:39.020940Z",
     "start_time": "2020-05-29T17:10:38.759698Z"
    }
   },
   "outputs": [
    {
     "data": {
      "image/png": "[encoded data removed]",
      "text/plain": [
       "<Figure size 432x288 with 1 Axes>"
      ]
     },
     "metadata": {
      "needs_background": "light"
     },
     "output_type": "display_data"
    }
   ],
   "source": [
    "import matplotlib.pyplot as plt\n",
    "plt.plot(res[1])\n",
    "plt.yscale('log')"
   ]
  },
  {
   "cell_type": "code",
   "execution_count": null,
   "metadata": {},
   "outputs": [],
   "source": []
  }
 ],
 "metadata": {
  "kernelspec": {
   "display_name": "Python 3",
   "language": "python",
   "name": "python3"
  },
  "language_info": {
   "codemirror_mode": {
    "name": "ipython",
    "version": 3
   },
   "file_extension": ".py",
   "mimetype": "text/x-python",
   "name": "python",
   "nbconvert_exporter": "python",
   "pygments_lexer": "ipython3",
   "version": "3.7.7"
  },
  "varInspector": {
   "cols": {
    "lenName": 16,
    "lenType": 16,
    "lenVar": 40
   },
   "kernels_config": {
    "python": {
     "delete_cmd_postfix": "",
     "delete_cmd_prefix": "del ",
     "library": "var_list.py",
     "varRefreshCmd": "print(var_dic_list())"
    },
    "r": {
     "delete_cmd_postfix": ") ",
     "delete_cmd_prefix": "rm(",
     "library": "var_list.r",
     "varRefreshCmd": "cat(var_dic_list()) "
    }
   },
   "position": {
    "height": "279.4px",
    "left": "791.6px",
    "right": "20px",
    "top": "120px",
    "width": "340.4px"
   },
   "types_to_exclude": [
    "module",
    "function",
    "builtin_function_or_method",
    "instance",
    "_Feature"
   ],
   "window_display": false
  }
 },
 "nbformat": 4,
 "nbformat_minor": 2
}
