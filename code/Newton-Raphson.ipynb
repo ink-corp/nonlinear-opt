{
 "cells": [
  {
   "cell_type": "code",
   "execution_count": 10,
   "metadata": {
    "ExecuteTime": {
     "end_time": "2020-05-28T22:33:31.221778Z",
     "start_time": "2020-05-28T22:33:31.218289Z"
    }
   },
   "outputs": [],
   "source": [
    "import os\n",
    "from os.path import join\n",
    "from time import time\n",
    "from tqdm.notebook import tqdm\n",
    "\n",
    "import numpy as np\n",
    "from numpy import flatnonzero as find\n",
    "from scipy.sparse import hstack, vstack\n",
    "from scipy.sparse.linalg import spsolve\n",
    "\n",
    "from data import case_as_data, PowerflowDataset\n"
   ]
  },
  {
   "cell_type": "code",
   "execution_count": 11,
   "metadata": {
    "ExecuteTime": {
     "end_time": "2020-05-28T22:33:31.604252Z",
     "start_time": "2020-05-28T22:33:31.576920Z"
    },
    "scrolled": true
   },
   "outputs": [],
   "source": [
    "data = case_as_data('case300')\n",
    "pf = PowerflowDataset(data)"
   ]
  },
  {
   "cell_type": "markdown",
   "metadata": {},
   "source": [
    "$j$ denotes imaginary unit in electrical engineering  \n",
    "$Y_{bus} = Y = G + jB$  \n",
    "$S_{bus} = S = P + jQ$  \n",
    "$V_i = |V_i|e^{j\\delta_i}$  \n",
    "$\\theta_{ik} = \\delta_i - \\delta_k$\n",
    "\n",
    "$S_k = V_k \\cdot (YV)_k^*$  \n",
    "or   \n",
    "$P_{i}=\\sum _{{k=1}}^{N}|V_{i}||V_{k}|(G_{{ik}}\\cos \\theta _{{ik}}+B_{{ik}}\\sin \\theta _{{ik}})$    \n",
    "$Q_{i}=\\sum _{{k=1}}^{N}|V_{i}||V_{k}|(G_{{ik}}\\sin \\theta _{{ik}}-B_{{ik}}\\cos \\theta _{{ik}})$  \n",
    "Further reading: https://wiki.openelectrical.org/index.php?title=Power_Flow  \n",
    "### Newton algorthm\n",
    "$$\n",
    "\\Delta P_{i}=-P_{i}+\\sum _{{k=1}}^{N}|V_{i}||V_{k}|(G_{{ik}}\\cos \\theta _{{ik}}+B_{{ik}}\\sin \\theta _{{ik}})\n",
    "\\\\\n",
    "\\Delta Q_{{i}}=-Q_{{i}}+\\sum _{{k=1}}^{N}|V_{i}||V_{k}|(G_{{ik}}\\sin \\theta _{{ik}}-B_{{ik}}\\cos \\theta _{{ik}})\n",
    "\\\\\n",
    "J={\\begin{bmatrix}{\\dfrac  {\\partial \\Delta P}{\\partial \\theta }}&{\\dfrac  {\\partial \\Delta P}{\\partial |V|}}\\\\{\\dfrac  {\\partial \\Delta Q}{\\partial \\theta }}&{\\dfrac  {\\partial \\Delta Q}{\\partial |V|}}\\end{bmatrix}}\n",
    "\\\\\n",
    "{\\begin{bmatrix}\\Delta \\theta \\\\\\Delta |V|\\end{bmatrix}}=-J^{{-1}}{\\begin{bmatrix}\\Delta P\\\\\\Delta Q\\end{bmatrix}}\n",
    "\\\\\n",
    "\\theta ^{{m+1}}=\\theta ^{m}+\\Delta \\theta \\,\n",
    "\\\\\n",
    "|V|^{{m+1}}=|V|^{m}+\\Delta |V|\\,$$   \n",
    "**What is not clarified yet**: types of buses: $pv$ and $pq$\n",
    "\n",
    "In the power-flow problem, it is assumed that the real power $P_D$ and reactive power $Q_D$ at each Load Bus are known. For this reason, Load Buses are also known as **PQ Buses**. For Generator Buses, it is assumed that the real power generated $P_G$ and the voltage magnitude $|V|$ is known. For this reason, Generator Buses are also known as **PV Buses**"
   ]
  },
  {
   "cell_type": "code",
   "execution_count": 12,
   "metadata": {
    "ExecuteTime": {
     "end_time": "2020-05-28T22:33:32.493980Z",
     "start_time": "2020-05-28T22:33:32.483440Z"
    }
   },
   "outputs": [],
   "source": [
    "class NewtonRaphson():\n",
    "    def __init__(self):\n",
    "        pass\n",
    "    def solve(self, regression, iterations=10, x0=None,\n",
    "                 tol=1e-10, verbose=True):\n",
    "        if x0 is None:\n",
    "            # special case for PowerflowDataset\n",
    "            if hasattr(regression, 'get_V0'): \n",
    "                x = regression.get_V0()\n",
    "            else:\n",
    "                x = np.random.rand(regression.A.shape[1])\n",
    "        else:\n",
    "            x = x0\n",
    "        \n",
    "        # initialize starting time\n",
    "        start = time()\n",
    "        # save the history of iterations for plotting and analysis\n",
    "        x_history = [x]\n",
    "        values_history = [np.linalg.norm(regression.forward(x), 2)]\n",
    "        grads_history = [regression.grad(x)]\n",
    "        times_history = [0]\n",
    "        \n",
    "        for i in tqdm(range(iterations)):\n",
    "            if verbose:\n",
    "                print(f'{np.linalg.norm(regression.forward(x), 2)}')\n",
    "            J = regression.grad(x)\n",
    "            F = regression.forward(x)\n",
    "            dx = -spsolve(J, F) # - np.linalg.inv(J.toarray()) @ F\n",
    "            x = regression.updatedV(x, dx)\n",
    "            \n",
    "            # update histories\n",
    "            x_history.append(x)\n",
    "            values_history.append(np.linalg.norm(regression.forward(x), 2))\n",
    "            times_history.append(time() - start)\n",
    "            \n",
    "            if np.abs(values_history[-1] - values_history[-2]) <= tol:\n",
    "                print(f'Newton-Raphson converged on iteration {i}')\n",
    "                break\n",
    "        return x_history, values_history, times_history\n",
    "        "
   ]
  },
  {
   "cell_type": "code",
   "execution_count": 13,
   "metadata": {
    "ExecuteTime": {
     "end_time": "2020-05-28T22:33:34.715724Z",
     "start_time": "2020-05-28T22:33:33.039435Z"
    }
   },
   "outputs": [
    {
     "data": {
      "application/vnd.jupyter.widget-view+json": {
       "model_id": "fee7685cb35b44f0b49c46eb593bb8f5",
       "version_major": 2,
       "version_minor": 0
      },
      "text/plain": [
       "HBox(children=(FloatProgress(value=0.0, max=300.0), HTML(value='')))"
      ]
     },
     "metadata": {},
     "output_type": "display_data"
    },
    {
     "name": "stdout",
     "output_type": "stream",
     "text": [
      "\n"
     ]
    }
   ],
   "source": [
    "nr = NewtonRaphson()\n",
    "\n",
    "res = list(nr.solve(pf, iterations=300, tol=1e-15, verbose=False))"
   ]
  },
  {
   "cell_type": "code",
   "execution_count": null,
   "metadata": {},
   "outputs": [],
   "source": []
  }
 ],
 "metadata": {
  "kernelspec": {
   "display_name": "Python 3",
   "language": "python",
   "name": "python3"
  },
  "language_info": {
   "codemirror_mode": {
    "name": "ipython",
    "version": 3
   },
   "file_extension": ".py",
   "mimetype": "text/x-python",
   "name": "python",
   "nbconvert_exporter": "python",
   "pygments_lexer": "ipython3",
   "version": "3.7.7"
  },
  "varInspector": {
   "cols": {
    "lenName": 16,
    "lenType": 16,
    "lenVar": 40
   },
   "kernels_config": {
    "python": {
     "delete_cmd_postfix": "",
     "delete_cmd_prefix": "del ",
     "library": "var_list.py",
     "varRefreshCmd": "print(var_dic_list())"
    },
    "r": {
     "delete_cmd_postfix": ") ",
     "delete_cmd_prefix": "rm(",
     "library": "var_list.r",
     "varRefreshCmd": "cat(var_dic_list()) "
    }
   },
   "position": {
    "height": "279.4px",
    "left": "791.6px",
    "right": "20px",
    "top": "120px",
    "width": "340.4px"
   },
   "types_to_exclude": [
    "module",
    "function",
    "builtin_function_or_method",
    "instance",
    "_Feature"
   ],
   "window_display": false
  }
 },
 "nbformat": 4,
 "nbformat_minor": 2
}
