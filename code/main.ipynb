{
 "cells": [
  {
   "cell_type": "code",
   "execution_count": 1,
   "metadata": {
    "ExecuteTime": {
     "end_time": "2020-05-28T23:34:30.791310Z",
     "start_time": "2020-05-28T23:34:30.504097Z"
    }
   },
   "outputs": [],
   "source": [
    "import os\n",
    "from os.path import join\n",
    "\n",
    "import numpy as np\n",
    "from numpy import flatnonzero as find\n",
    "from scipy.sparse import hstack, vstack\n",
    "from scipy.sparse.linalg import spsolve\n",
    "\n",
    "import pypower\n",
    "from pypower.api import case9, loadcase, ext2int, makeYbus, makeSbus, bustypes\n",
    "from pypower.idx_bus import PD, QD, VM, VA, GS, BUS_TYPE, PQ, REF\n",
    "from pypower.idx_brch import PF, PT, QF, QT\n",
    "from pypower.idx_gen import PG, QG, VG, QMAX, QMIN, GEN_BUS, GEN_STATUS\n",
    "from pypower.dSbus_dV import dSbus_dV"
   ]
  },
  {
   "cell_type": "code",
   "execution_count": 2,
   "metadata": {
    "ExecuteTime": {
     "end_time": "2020-05-28T23:34:31.417065Z",
     "start_time": "2020-05-28T23:34:31.405140Z"
    },
    "scrolled": true
   },
   "outputs": [],
   "source": [
    "# list of available cases\n",
    "['case4gs', 'case6ww', 'case9',\n",
    "'case9Q', 'case14', 'case24_ieee_rts',\n",
    "'case30', 'case30Q', 'case30pwl',\n",
    "'case39', 'case57', 'case118', 'case300',\n",
    "'case30_userfcns']\n",
    "\n",
    "casename = 'case57'\n",
    "casedata = join('pypower', casename)\n",
    "data = ext2int(loadcase(casedata))"
   ]
  },
  {
   "cell_type": "code",
   "execution_count": 3,
   "metadata": {
    "ExecuteTime": {
     "end_time": "2020-05-28T23:34:32.371803Z",
     "start_time": "2020-05-28T23:34:32.365367Z"
    },
    "scrolled": true
   },
   "outputs": [],
   "source": [
    "baseMVA = data['baseMVA']\n",
    "bus = data['bus']\n",
    "branch = data['branch']\n",
    "gen = data['gen']\n",
    "\n",
    "ref, pv, pq = bustypes(bus, gen)\n",
    "pvpq = np.r_[pv, pq]\n",
    "npv = len(pv)\n",
    "npq = len(pq)\n",
    "j1 = 0;         j2 = npv           ## j1:j2 - V angle of pv buses\n",
    "j3 = j2;        j4 = j2 + npq      ## j3:j4 - V angle of pq buses\n",
    "j5 = j4;        j6 = j4 + npq      ## j5:j6 - V mag of pq buses"
   ]
  },
  {
   "cell_type": "code",
   "execution_count": 4,
   "metadata": {
    "ExecuteTime": {
     "end_time": "2020-05-28T23:34:35.749285Z",
     "start_time": "2020-05-28T23:34:35.736518Z"
    }
   },
   "outputs": [],
   "source": [
    "def get_V0(bus, gen):\n",
    "    on = find(gen[:, GEN_STATUS] > 0)      ## which generators are on?\n",
    "    gbus = gen[on, GEN_BUS].astype(int) \n",
    "    V0  = bus[:, VM] * np.exp(1j * np.pi/180 * bus[:, VA])\n",
    "    V0[gbus] = gen[on, VG] / abs(V0[gbus]) * V0[gbus]\n",
    "    return V0\n",
    "\n",
    "def mismatch(Y, V, S):\n",
    "    return V * np.conj(Y * V) - S\n",
    "\n",
    "def mismatchf(Y, V, S):\n",
    "    mis = mismatch(Y, V, S)\n",
    "    F = np.r_[  mis[pv].real,\n",
    "             mis[pq].real,\n",
    "             mis[pq].imag  ]\n",
    "    return F\n",
    "\n",
    "def jacobian(Y, V):\n",
    "    dS_dVm, dS_dVa = dSbus_dV(Y, V)\n",
    "    J11 = dS_dVa[pvpq[:, None], pvpq].real\n",
    "    J12 = dS_dVm[pvpq[:, None], pq].real\n",
    "    J21 = dS_dVa[pq[:, None], pvpq].imag\n",
    "    J22 = dS_dVm[pq[:, None], pq].imag\n",
    "\n",
    "    J = vstack([\n",
    "            hstack([J11, J12]),\n",
    "            hstack([J21, J22])\n",
    "        ], format=\"csr\")\n",
    "    \n",
    "    return J\n",
    "\n",
    "def updatedV(V, dx):\n",
    "    Vm = np.abs(V)\n",
    "    Va = np.angle(V)\n",
    "    if npv:\n",
    "        Va[pv] = Va[pv] + dx[j1:j2]\n",
    "    if npq:\n",
    "        Va[pq] = Va[pq] + dx[j3:j4]\n",
    "        Vm[pq] = Vm[pq] + dx[j5:j6]\n",
    "    V = Vm * np.exp(1j * Va)\n",
    "    return V\n",
    "\n",
    "def norm(F):\n",
    "    return np.linalg.norm(F, np.Inf)"
   ]
  },
  {
   "cell_type": "markdown",
   "metadata": {},
   "source": [
    "$j$ denotes imaginary unit in electrical engineering  \n",
    "$Y_{bus} = Y = G + jB$  \n",
    "$S_{bus} = S = P + jQ$  \n",
    "$V_i = |V_i|e^{j\\delta_i}$  \n",
    "$\\theta_{ik} = \\delta_i - \\delta_k$\n",
    "\n",
    "$S_k = V_k \\cdot (YV)_k^*$  \n",
    "or   \n",
    "$P_{i}=\\sum _{{k=1}}^{N}|V_{i}||V_{k}|(G_{{ik}}\\cos \\theta _{{ik}}+B_{{ik}}\\sin \\theta _{{ik}})$    \n",
    "$Q_{i}=\\sum _{{k=1}}^{N}|V_{i}||V_{k}|(G_{{ik}}\\sin \\theta _{{ik}}-B_{{ik}}\\cos \\theta _{{ik}})$  \n",
    "Further reading: https://wiki.openelectrical.org/index.php?title=Power_Flow  \n",
    "### Newton algorthm\n",
    "$$\n",
    "\\Delta P_{i}=-P_{i}+\\sum _{{k=1}}^{N}|V_{i}||V_{k}|(G_{{ik}}\\cos \\theta _{{ik}}+B_{{ik}}\\sin \\theta _{{ik}})\n",
    "\\\\\n",
    "\\Delta Q_{{i}}=-Q_{{i}}+\\sum _{{k=1}}^{N}|V_{i}||V_{k}|(G_{{ik}}\\sin \\theta _{{ik}}-B_{{ik}}\\cos \\theta _{{ik}})\n",
    "\\\\\n",
    "J={\\begin{bmatrix}{\\dfrac  {\\partial \\Delta P}{\\partial \\theta }}&{\\dfrac  {\\partial \\Delta P}{\\partial |V|}}\\\\{\\dfrac  {\\partial \\Delta Q}{\\partial \\theta }}&{\\dfrac  {\\partial \\Delta Q}{\\partial |V|}}\\end{bmatrix}}\n",
    "\\\\\n",
    "{\\begin{bmatrix}\\Delta \\theta \\\\\\Delta |V|\\end{bmatrix}}=-J^{{-1}}{\\begin{bmatrix}\\Delta P\\\\\\Delta Q\\end{bmatrix}}\n",
    "\\\\\n",
    "\\theta ^{{m+1}}=\\theta ^{m}+\\Delta \\theta \\,\n",
    "\\\\\n",
    "|V|^{{m+1}}=|V|^{m}+\\Delta |V|\\,$$   \n",
    "**What is not clarified yet**: types of buses: $pv$ and $pq$"
   ]
  },
  {
   "cell_type": "code",
   "execution_count": 5,
   "metadata": {
    "ExecuteTime": {
     "end_time": "2020-05-28T23:34:37.483913Z",
     "start_time": "2020-05-28T23:34:37.475604Z"
    }
   },
   "outputs": [],
   "source": [
    "Ybus, _, _ = makeYbus(baseMVA, bus, branch)\n",
    "Sbus = makeSbus(baseMVA, bus, gen)\n",
    "V0 = get_V0(bus, gen)"
   ]
  },
  {
   "cell_type": "code",
   "execution_count": 14,
   "metadata": {
    "ExecuteTime": {
     "end_time": "2020-05-28T23:36:26.876646Z",
     "start_time": "2020-05-28T23:36:26.873657Z"
    }
   },
   "outputs": [],
   "source": [
    "V = V0\n",
    "F = mismatchf(Ybus, V, Sbus)"
   ]
  },
  {
   "cell_type": "code",
   "execution_count": 20,
   "metadata": {
    "ExecuteTime": {
     "end_time": "2020-05-28T23:36:51.317936Z",
     "start_time": "2020-05-28T23:36:51.313901Z"
    }
   },
   "outputs": [
    {
     "data": {
      "text/plain": [
       "(106,)"
      ]
     },
     "execution_count": 20,
     "metadata": {},
     "output_type": "execute_result"
    }
   ],
   "source": [
    "F.shape"
   ]
  },
  {
   "cell_type": "code",
   "execution_count": 21,
   "metadata": {
    "ExecuteTime": {
     "end_time": "2020-05-28T23:50:13.491546Z",
     "start_time": "2020-05-28T23:50:13.475558Z"
    }
   },
   "outputs": [
    {
     "data": {
      "text/plain": [
       "(106, 106)"
      ]
     },
     "execution_count": 21,
     "metadata": {},
     "output_type": "execute_result"
    }
   ],
   "source": [
    "J.shape "
   ]
  },
  {
   "cell_type": "code",
   "execution_count": 6,
   "metadata": {
    "ExecuteTime": {
     "end_time": "2020-05-28T23:34:39.317038Z",
     "start_time": "2020-05-28T23:34:39.066861Z"
    }
   },
   "outputs": [
    {
     "name": "stdout",
     "output_type": "stream",
     "text": [
      "0.45788509719535103\n",
      "0.45788509719535103\n",
      "0.005380113910526581\n",
      "5.221329097899152e-06\n",
      "3.449698351981805e-12\n",
      "1.3189296159535811e-14\n"
     ]
    }
   ],
   "source": [
    "V = V0\n",
    "F = mismatchf(Ybus, V, Sbus)\n",
    "normF = norm(F)\n",
    "print(normF)\n",
    "\n",
    "for _ in range(5):\n",
    "    J = jacobian(Ybus, V)\n",
    "    F = mismatchf(Ybus, V, Sbus)\n",
    "    dx = -spsolve(J, F)\n",
    "    V = updatedV(V, dx)\n",
    "    normF = norm(F)\n",
    "    print(normF)"
   ]
  },
  {
   "cell_type": "code",
   "execution_count": 20,
   "metadata": {},
   "outputs": [
    {
     "data": {
      "text/plain": [
       "array([1.04      +0.j        , 1.00978284-0.02094323j,\n",
       "       0.97962538-0.10275753j, 0.97274838-0.12525678j,\n",
       "       0.96565546-0.14511792j, 0.96879087-0.14779802j,\n",
       "       0.9755528 -0.13019076j, 1.00193224-0.07846514j,\n",
       "       0.96631981-0.16317486j, 0.96661532-0.19577581j,\n",
       "       0.95858973-0.17236091j, 0.99809655-0.18446758j,\n",
       "       0.96459316-0.16667517j, 0.95728654-0.15762484j,\n",
       "       0.98026192-0.12366501j, 1.00127964-0.15606106j,\n",
       "       1.01294563-0.0956783j , 0.97976324-0.20342784j,\n",
       "       0.94442262-0.22197332j, 0.93737882-0.22408132j,\n",
       "       0.98293086-0.22564498j, 0.98436023-0.22498411j,\n",
       "       0.9827252 -0.2257883j , 0.97246409-0.22973956j,\n",
       "       0.93351058-0.30643936j, 0.93431431-0.21538156j,\n",
       "       0.96178983-0.19591646j, 0.98004677-0.18131556j,\n",
       "       0.99556321-0.17145866j, 0.91173684-0.30895437j,\n",
       "       0.88288053-0.31063084j, 0.90072375-0.30159361j,\n",
       "       0.89833986-0.30148729j, 0.93010124-0.23447046j,\n",
       "       0.93789276-0.23221256j, 0.94832725-0.23003458j,\n",
       "       0.95789058-0.22901316j, 0.98789884-0.22326j   ,\n",
       "       0.95570349-0.22928591j, 0.94530105-0.22970974j,\n",
       "       0.96630145-0.24230008j, 0.93122586-0.2588258j ,\n",
       "       0.98980482-0.19875983j, 0.9951056 -0.20891206j,\n",
       "       1.02247467-0.16688871j, 1.03991421-0.20432597j,\n",
       "       1.00871393-0.22384058j, 1.00256693-0.22429605j,\n",
       "       1.00994609-0.23197801j, 0.99542404-0.23737686j,\n",
       "       1.02718634-0.22834999j, 0.96069563-0.19541313j,\n",
       "       0.94882884-0.20605586j, 0.97558403-0.20220522j,\n",
       "       1.01252419-0.19316996j, 0.93055185-0.26797552j,\n",
       "       0.92469293-0.27537647j])"
      ]
     },
     "execution_count": 20,
     "metadata": {},
     "output_type": "execute_result"
    }
   ],
   "source": [
    "V"
   ]
  },
  {
   "cell_type": "code",
   "execution_count": null,
   "metadata": {},
   "outputs": [],
   "source": []
  }
 ],
 "metadata": {
  "kernelspec": {
   "display_name": "Python 3",
   "language": "python",
   "name": "python3"
  },
  "language_info": {
   "codemirror_mode": {
    "name": "ipython",
    "version": 3
   },
   "file_extension": ".py",
   "mimetype": "text/x-python",
   "name": "python",
   "nbconvert_exporter": "python",
   "pygments_lexer": "ipython3",
   "version": "3.7.7"
  },
  "varInspector": {
   "cols": {
    "lenName": 16,
    "lenType": 16,
    "lenVar": 40
   },
   "kernels_config": {
    "python": {
     "delete_cmd_postfix": "",
     "delete_cmd_prefix": "del ",
     "library": "var_list.py",
     "varRefreshCmd": "print(var_dic_list())"
    },
    "r": {
     "delete_cmd_postfix": ") ",
     "delete_cmd_prefix": "rm(",
     "library": "var_list.r",
     "varRefreshCmd": "cat(var_dic_list()) "
    }
   },
   "types_to_exclude": [
    "module",
    "function",
    "builtin_function_or_method",
    "instance",
    "_Feature"
   ],
   "window_display": false
  }
 },
 "nbformat": 4,
 "nbformat_minor": 2
}
